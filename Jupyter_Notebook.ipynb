{
 "cells": [
  {
   "cell_type": "markdown",
   "metadata": {},
   "source": [
    "# **My first Jupyter Notebook**"
   ]
  },
  {
   "cell_type": "markdown",
   "metadata": {},
   "source": [
    "*Introduction: This my first peer graded assignment*"
   ]
  },
  {
   "cell_type": "markdown",
   "metadata": {},
   "source": [
    "### Data Science languages\n",
    "1. Python\n",
    "2. R\n",
    "3. SQL"
   ]
  },
  {
   "cell_type": "markdown",
   "metadata": {},
   "source": [
    "## Data Science Libraries\n",
    "+ Numpy\n",
    "+ Pandas\n",
    "+ Scikit-learn\n",
    "+ Apache Spark"
   ]
  },
  {
   "cell_type": "markdown",
   "metadata": {},
   "source": [
    "## Tools for data science\n",
    "|Open Source|Commercial|Cloud based|\n",
    "|-----------|----------|-----------|\n",
    "|MongoDB|IBM Db2|Informatica Cloud Data Integration|\n",
    "|MySQL|IBM InfoSphere DataStage|Data Refinery|\n",
    "|GitHub|Watson Studio Desktop|Datameer|"
   ]
  },
  {
   "cell_type": "markdown",
   "metadata": {},
   "source": [
    "## Arithmetic Expression Examples\n",
    "\n",
    "In this section, we will explore some basic arithmetic operations, including addition, subtraction, multiplication, and division. These operations are fundamental to performing calculations in programming.\n"
   ]
  },
  {
   "cell_type": "code",
   "execution_count": 2,
   "metadata": {
    "tags": []
   },
   "outputs": [
    {
     "name": "stdout",
     "output_type": "stream",
     "text": [
      "The product of 5 and 10 is 50.\n",
      "The sum of 5 and 10 is 15.\n"
     ]
    }
   ],
   "source": [
    "# Code cell for multiplying and adding numbers\n",
    "\n",
    "a = 5\n",
    "b = 10\n",
    "\n",
    "product = a * b\n",
    "\n",
    "sum_result = a + b\n",
    "\n",
    "\n",
    "print(f\"The product of {a} and {b} is {product}.\")\n",
    "print(f\"The sum of {a} and {b} is {sum_result}.\")\n"
   ]
  },
  {
   "cell_type": "code",
   "execution_count": 3,
   "metadata": {
    "tags": []
   },
   "outputs": [
    {
     "name": "stdout",
     "output_type": "stream",
     "text": [
      "150 minutes is equal to 2.5 hours.\n"
     ]
    }
   ],
   "source": [
    "# Code cell for converting minutes to hours\n",
    "\n",
    "minutes = 150\n",
    "\n",
    "hours = minutes / 60\n",
    "\n",
    "print(f\"{minutes} minutes is equal to {hours} hours.\")\n"
   ]
  },
  {
   "cell_type": "markdown",
   "metadata": {},
   "source": [
    "## Objectives\n",
    "\n",
    "- Understand basic arithmetic operations in Python.\n",
    "- Learn how to perform multiplication and addition.\n",
    "- Convert units of time from minutes to hours.\n"
   ]
  },
  {
   "cell_type": "markdown",
   "metadata": {},
   "source": [
    "## Author\n",
    "\n",
    "Created by [Adarsh Kumar Singh]\n"
   ]
  },
  {
   "cell_type": "code",
   "execution_count": null,
   "metadata": {},
   "outputs": [],
   "source": []
  }
 ],
 "metadata": {
  "kernelspec": {
   "display_name": "Python",
   "language": "python",
   "name": "conda-env-python-py"
  },
  "language_info": {
   "codemirror_mode": {
    "name": "ipython",
    "version": 3
   },
   "file_extension": ".py",
   "mimetype": "text/x-python",
   "name": "python",
   "nbconvert_exporter": "python",
   "pygments_lexer": "ipython3",
   "version": "3.7.12"
  }
 },
 "nbformat": 4,
 "nbformat_minor": 4
}
